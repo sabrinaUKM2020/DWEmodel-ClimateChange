{
 "cells": [
  {
   "cell_type": "markdown",
   "metadata": {},
   "source": [
    "### README:\n",
    "This is a code to train the corpus of climate change into dynamic word embedding model. The corpus is kept in 'examples/training/' folder. code written by Sabrina Tiun (2022).\n",
    "\n",
    "\n",
    "### NOTE for setup TWEC:<br>\n",
    "1. Use gensim 3.8.3 or earlier.<br>\n",
    "2. Use old copy of twec-master (downloaded 2019, and I name it twec-master-old)<br>\n",
    "3. put your notebook (inside the twec-master-old folder)<br>\n",
    "4. to create VE for twec master do: (ref: https://anbasile.github.io/posts/2017-06-25-jupyter-venv/)<br>\n",
    "python -m venv twec-master-old <br>\n",
    "source twec-master-old/bin/activate <br>\n",
    "pip install ipykernal<br>\n",
    "ipython kernel install --user --name=twec_kernel<br>\n",
    "5. to use the twec, make sure in jupyter change your kernel into twec-kernel<br>\n",
    "6. if your run 'from twec.twec import TWEC' doesnt give any error - your kernel is ok.<br>\n",
    "7. if error happens - check at terminal that your have twec-master-old vritual env (activated)\n",
    "\n",
    "### TWEC references\n",
    "[1]hhttps://github.com/valedica/twec <br>\n",
    "[2]https://medium.com/@eleroy/jupyter-notebook-in-a-virtual-environment-virtualenv-8f3c3448247 <br>\n",
    "[3]https://medium.com/@fb_vinid/aligning-temporal-diachronic-word-embeddings-with-a-compass-732ab7427955 <br>\n",
    "[4https://towardsdatascience.com/measuring-semantic-changes-using-temporal-word-embedding-6fc3f16cfdb4 <br>\n",
    "\n",
    "## reference of similiar studies:\n",
    "[1]https://arxiv.org/pdf/2010.00761.pdf\n",
    "[2]https://arxiv.org/pdf/1703.00607.pdf\n",
    "[3]https://escholarship.org/uc/item/9tp9g31f\n"
   ]
  },
  {
   "cell_type": "code",
   "execution_count": null,
   "metadata": {},
   "outputs": [],
   "source": [
    "from twec.twec import TWEC"
   ]
  },
  {
   "cell_type": "code",
   "execution_count": 2,
   "metadata": {},
   "outputs": [],
   "source": [
    "from gensim.models.word2vec import Word2Vec"
   ]
  },
  {
   "cell_type": "code",
   "execution_count": 3,
   "metadata": {},
   "outputs": [],
   "source": [
    "aligner = TWEC(size=30,siter=10,diter=10, workers=4)"
   ]
  },
  {
   "cell_type": "code",
   "execution_count": 6,
   "metadata": {},
   "outputs": [
    {
     "name": "stdout",
     "output_type": "stream",
     "text": [
      "Training the compass.\n",
      "Initializing temporal embeddings from the atemporal compass.\n"
     ]
    }
   ],
   "source": [
    "aligner.train_compass(\"examples/training/clean_climate_all.txt\", overwrite=False)"
   ]
  },
  {
   "cell_type": "code",
   "execution_count": 11,
   "metadata": {},
   "outputs": [
    {
     "name": "stdout",
     "output_type": "stream",
     "text": [
      "Training temporal embeddings: slice examples/training/clean_all_2015.txt.\n",
      "Initializing temporal embeddings from the atemporal compass.\n",
      "Training temporal embeddings: slice examples/training/clean_all_2016.txt.\n",
      "Initializing temporal embeddings from the atemporal compass.\n",
      "Training temporal embeddings: slice examples/training/clean_all_2017.txt.\n",
      "Initializing temporal embeddings from the atemporal compass.\n",
      "Training temporal embeddings: slice examples/training/clean_all_2018.txt.\n",
      "Initializing temporal embeddings from the atemporal compass.\n",
      "Training temporal embeddings: slice examples/training/clean_all_2019.txt.\n",
      "Initializing temporal embeddings from the atemporal compass.\n",
      "Training temporal embeddings: slice examples/training/clean_all_2020.txt.\n",
      "Initializing temporal embeddings from the atemporal compass.\n",
      "Training temporal embeddings: slice examples/training/clean_all_2021.txt.\n",
      "Initializing temporal embeddings from the atemporal compass.\n"
     ]
    }
   ],
   "source": [
    "slice_1 = aligner.train_slice(\"examples/training/clean_all_2015.txt\", save=True)\n",
    "slice_2 = aligner.train_slice(\"examples/training/clean_all_2016.txt\", save=True)\n",
    "slice_3 = aligner.train_slice(\"examples/training/clean_all_2017.txt\", save=True)\n",
    "slice_4 = aligner.train_slice(\"examples/training/clean_all_2018.txt\", save=True)\n",
    "slice_5 = aligner.train_slice(\"examples/training/clean_all_2019.txt\", save=True)\n",
    "slice_6 = aligner.train_slice(\"examples/training/clean_all_2020.txt\", save=True)\n",
    "slice_7 = aligner.train_slice(\"examples/training/clean_all_2021.txt\", save=True)"
   ]
  },
  {
   "cell_type": "markdown",
   "metadata": {},
   "source": [
    "Load model "
   ]
  },
  {
   "cell_type": "code",
   "execution_count": 14,
   "metadata": {},
   "outputs": [],
   "source": [
    "model1 = Word2Vec.load(\"model/clean_all_2015.model\")\n",
    "model2 = Word2Vec.load(\"model/clean_all_2016.model\")\n",
    "model3 = Word2Vec.load(\"model/clean_all_2017.model\")\n",
    "model4 = Word2Vec.load(\"model/clean_all_2018.model\")\n",
    "model5 = Word2Vec.load(\"model/clean_all_2019.model\")\n",
    "model6 = Word2Vec.load(\"model/clean_all_2020.model\")\n",
    "model7 = Word2Vec.load(\"model/clean_all_2021.model\")"
   ]
  },
  {
   "cell_type": "code",
   "execution_count": 144,
   "metadata": {},
   "outputs": [],
   "source": [
    "#word to be analyzed:\n",
    "word  = 'power'\n",
    "word2 = 'energy'\n",
    "word3 = 'environment'\n",
    "word4 = 'forest'\n",
    "word5 = 'water'\n",
    "word6 = 'loss' #nor exist\n",
    "word7 = 'river'\n",
    "word8 = 'activity'"
   ]
  },
  {
   "cell_type": "markdown",
   "metadata": {},
   "source": [
    "### MOST SIMILIAR ANALYSIS<br>"
   ]
  },
  {
   "cell_type": "code",
   "execution_count": 146,
   "metadata": {},
   "outputs": [
    {
     "data": {
      "text/plain": [
       "[('demonstrates', 0.744025468826294),\n",
       " ('decreased', 0.6450361013412476),\n",
       " ('significantly', 0.6394823789596558),\n",
       " ('effects', 0.6340947151184082),\n",
       " ('induced', 0.6217095255851746),\n",
       " ('patterns', 0.6154937148094177),\n",
       " ('caused', 0.6027446985244751),\n",
       " ('rate', 0.6024799346923828),\n",
       " ('loss', 0.592653751373291),\n",
       " ('decrease', 0.5885190963745117)]"
      ]
     },
     "execution_count": 146,
     "metadata": {},
     "output_type": "execute_result"
    }
   ],
   "source": [
    "model6.wv.most_similar(positive=[word8], topn=10)"
   ]
  },
  {
   "cell_type": "markdown",
   "metadata": {},
   "source": [
    "### Self-similarity analysis\n",
    "This analysis will see the semantic strength of a word at different time."
   ]
  },
  {
   "cell_type": "code",
   "execution_count": 61,
   "metadata": {},
   "outputs": [],
   "source": [
    "import numpy as np"
   ]
  },
  {
   "cell_type": "code",
   "execution_count": 62,
   "metadata": {},
   "outputs": [],
   "source": [
    "def cos_similarity(vec1, vec2):\n",
    "    #vectors\n",
    "    a = np.array(vec1)\n",
    "    b = np.array(vec2)\n",
    "    \n",
    "    # manually compute cosine similarity\n",
    "    dot = np.dot(a, b)\n",
    "    norma = np.linalg.norm(a)\n",
    "    normb = np.linalg.norm(b)\n",
    "    cos = dot / (norma * normb)\n",
    "    return cos"
   ]
  },
  {
   "cell_type": "code",
   "execution_count": 65,
   "metadata": {},
   "outputs": [
    {
     "data": {
      "text/plain": [
       "0.94943786"
      ]
     },
     "execution_count": 65,
     "metadata": {},
     "output_type": "execute_result"
    }
   ],
   "source": [
    "#to see one word located at different time\n",
    "vector1 = model1.wv[word] \n",
    "vector2 = model7.wv[word] \n",
    "cos_similarity(vector1, vector2)"
   ]
  },
  {
   "cell_type": "markdown",
   "metadata": {},
   "source": [
    "### User defined method analysis. \n",
    "This analysis will see two different words at the different time\n",
    "Refer to baoudih( 2018)"
   ]
  },
  {
   "cell_type": "code",
   "execution_count": 148,
   "metadata": {},
   "outputs": [
    {
     "data": {
      "text/plain": [
       "0.25599617"
      ]
     },
     "execution_count": 148,
     "metadata": {},
     "output_type": "execute_result"
    }
   ],
   "source": [
    "vector_reference = model1.wv[word4] \n",
    "vector_target = model7.wv[word8] \n",
    "cos_similarity(vector_reference, vector_target )"
   ]
  },
  {
   "cell_type": "markdown",
   "metadata": {},
   "source": [
    "### Example:\n",
    "1. have a target word (e.g 'water')\n",
    "2. find the semantic shift of 'water' from one time (model) to another time (model)\n",
    "3. get the semantic value."
   ]
  },
  {
   "cell_type": "code",
   "execution_count": 107,
   "metadata": {},
   "outputs": [
    {
     "data": {
      "text/plain": [
       "0.92005664"
      ]
     },
     "execution_count": 107,
     "metadata": {},
     "output_type": "execute_result"
    }
   ],
   "source": [
    "word4 = 'water'\n",
    "vector1 = model1.wv[word4] #word water from 2015\n",
    "vector2 = model2.wv[word4] #word water from 2016\n",
    "cos_similarity(vector1, vector2)"
   ]
  },
  {
   "cell_type": "markdown",
   "metadata": {},
   "source": [
    "### To display semantic shift of the DWECC model"
   ]
  },
  {
   "cell_type": "code",
   "execution_count": 132,
   "metadata": {},
   "outputs": [
    {
     "data": {
      "image/png": "[encoded data removed]",
      "text/plain": [
       "<Figure size 432x288 with 1 Axes>"
      ]
     },
     "metadata": {
      "needs_background": "light"
     },
     "output_type": "display_data"
    }
   ],
   "source": [
    "import matplotlib.pyplot as plt\n",
    "  \n",
    "x = ['2015','2016','2017','2018','2019','2020','2021'] #the year\n",
    "y = [0.0,0.92005664,0.9139204,0.91256535,0.9430422,0.9624205,0.94540465] # semantic value\n",
    "  \n",
    "plt.plot(x, y, color = 'b', linestyle = 'dashed',\n",
    "         marker = 'o',label = \"target word = water\")\n",
    "  \n",
    "plt.xticks(rotation = 25)\n",
    "plt.xlabel('Year',fontsize = 12)\n",
    "plt.ylabel('semantic value',fontsize = 12)\n",
    "plt.title('myDWECC word analysis', fontsize = 18)\n",
    "plt.grid()\n",
    "plt.legend()\n",
    "plt.show()"
   ]
  },
  {
   "cell_type": "code",
   "execution_count": null,
   "metadata": {},
   "outputs": [],
   "source": []
  }
 ],
 "metadata": {
  "kernelspec": {
   "display_name": "twec_kernel",
   "language": "python",
   "name": "twec_kernel"
  },
  "language_info": {
   "codemirror_mode": {
    "name": "ipython",
    "version": 3
   },
   "file_extension": ".py",
   "mimetype": "text/x-python",
   "name": "python",
   "nbconvert_exporter": "python",
   "pygments_lexer": "ipython3",
   "version": "3.8.5"
  }
 },
 "nbformat": 4,
 "nbformat_minor": 2
}
