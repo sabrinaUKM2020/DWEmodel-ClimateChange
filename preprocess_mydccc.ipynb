{
  "cells": [
    {
      "cell_type": "markdown",
      "metadata": {
        "id": "4SKHP6IhIPhE"
      },
      "source": [
        " This code will pre-process the MYDCCC corpus:\n",
        " 1.0 remove numbers, symbols or any funny characters\n",
        " 2.0 remove stopwords\n",
        " 3.0 prepare corpora by years and the whole corpus\n",
        " copyright @sabrinatiun2022"
      ]
    },
    {
      "cell_type": "code",
      "execution_count": null,
      "metadata": {
        "id": "1JXrr8mHIPhK",
        "outputId": "0176e738-f209-4a06-db71-0dd0275fa1f2"
      },
      "outputs": [
        {
          "name": "stderr",
          "output_type": "stream",
          "text": [
            "[nltk_data] Downloading package wordnet to /Users/sabrina/nltk_data...\n",
            "[nltk_data]   Package wordnet is already up-to-date!\n"
          ]
        },
        {
          "data": {
            "text/plain": [
              "True"
            ]
          },
          "execution_count": 11,
          "metadata": {},
          "output_type": "execute_result"
        }
      ],
      "source": [
        "import nltk\n",
        "\n",
        "from nltk.corpus import stopwords\n",
        "nltk.download('wordnet')"
      ]
    },
    {
      "cell_type": "code",
      "execution_count": null,
      "metadata": {
        "id": "YZuVJQw9IPhN"
      },
      "outputs": [],
      "source": [
        "#input: text with stopword\n",
        "#return: text without stopword\n",
        "def removeStopword(text):\n",
        "    afterSW = [] \n",
        "    stopwordsNLTK = set(stopwords.words('english'))\n",
        "    word_tokens = nltk.word_tokenize(text.lower())\n",
        "    \n",
        "    for w in word_tokens:\n",
        "        if w not in stopwordsNLTK:\n",
        "            afterSW.append(w)\n",
        "    cleanText = ' '.join(afterSW)\n",
        "    return cleanText"
      ]
    },
    {
      "cell_type": "code",
      "execution_count": null,
      "metadata": {
        "id": "7ejuBYmzIPhO",
        "outputId": "dfceaa9c-2b13-4f0a-f73d-b0bf60f1c181"
      },
      "outputs": [
        {
          "name": "stdout",
          "output_type": "stream",
          "text": [
            "find house car\n"
          ]
        }
      ],
      "source": [
        "#test\n",
        "mytext = \"find house my car\"\n",
        "line = removeStopword(mytext)\n",
        "print(line)"
      ]
    },
    {
      "cell_type": "code",
      "execution_count": null,
      "metadata": {
        "id": "FzhRv8lpIPhP"
      },
      "outputs": [],
      "source": [
        "#input: directory contains text with stopword\n",
        "#output: directory as new text files without stopword\n",
        "\n",
        "from os import listdir\n",
        "from os.path import isfile, join\n",
        "import re\n",
        "\n",
        "def preprocessCorpusClimate(mydir, yearCorpus):\n",
        "    allFiles = [f for f in listdir(mydir) if isfile(join(mydir, f))]\n",
        "    print(len(allFiles))\n",
        "    \n",
        "    #read each file and remove stopword\n",
        "    for i in allFiles:\n",
        "        if i.endswith('.txt'):\n",
        "            with open(mydir+i,'r') as readfile:\n",
        "                with open(yearCorpus,'a') as writefile:\n",
        "                    for line in readfile:\n",
        "                        swLine = removeStopword(line) #remove stopwords\n",
        "                        cleanLine = re.sub(\"[^a-zA-Z]\", \" \", swLine) #remove symbols & numbers\n",
        "                        writefile.write(cleanLine)                    "
      ]
    },
    {
      "cell_type": "code",
      "execution_count": null,
      "metadata": {
        "id": "tz8-J5W4IPhQ",
        "outputId": "304a935d-10d0-46f5-b912-5944c2df40d8"
      },
      "outputs": [
        {
          "name": "stdout",
          "output_type": "stream",
          "text": [
            "1088\n"
          ]
        }
      ],
      "source": [
        "# prec-process year 2015\n",
        "mydir = 'MyDCCC_all/2015_all/'\n",
        "yearCorpus = 'MyDCCC_all/clean_all_2015.txt'\n",
        "preprocessCorpusClimate(mydir, yearCorpus)"
      ]
    },
    {
      "cell_type": "code",
      "execution_count": null,
      "metadata": {
        "id": "cX1PyaiUIPhR",
        "outputId": "2db89de4-96c6-458b-8c97-de51c0657971"
      },
      "outputs": [
        {
          "name": "stdout",
          "output_type": "stream",
          "text": [
            "1374\n"
          ]
        }
      ],
      "source": [
        "# prec-process year 2016\n",
        "mydir = 'MyDCCC_all/2016_all/'\n",
        "yearCorpus = 'MyDCCC_all/clean_all_2016.txt'\n",
        "preprocessCorpusClimate(mydir, yearCorpus)"
      ]
    },
    {
      "cell_type": "code",
      "execution_count": null,
      "metadata": {
        "id": "wYVGleDgIPhS",
        "outputId": "3b4ea4af-8a8f-4c0b-c27d-e5e974739e03"
      },
      "outputs": [
        {
          "name": "stdout",
          "output_type": "stream",
          "text": [
            "1008\n"
          ]
        }
      ],
      "source": [
        "# prec-process year 2017\n",
        "mydir = 'MyDCCC_all/2017_all/'\n",
        "yearCorpus = 'MyDCCC_all/clean_all_2017.txt'\n",
        "preprocessCorpusClimate(mydir, yearCorpus)"
      ]
    },
    {
      "cell_type": "code",
      "execution_count": null,
      "metadata": {
        "id": "tBrShg27IPhS",
        "outputId": "f583680a-36bf-4ea4-acff-6649bc076233"
      },
      "outputs": [
        {
          "name": "stdout",
          "output_type": "stream",
          "text": [
            "1065\n"
          ]
        }
      ],
      "source": [
        "# prec-process year 2018\n",
        "mydir = 'MyDCCC_all/2018_all/'\n",
        "yearCorpus = 'MyDCCC_all/clean_all_2018.txt'\n",
        "preprocessCorpusClimate(mydir, yearCorpus)"
      ]
    },
    {
      "cell_type": "code",
      "execution_count": null,
      "metadata": {
        "id": "xlyp3zBCIPhT",
        "outputId": "73ab2ac6-0310-4b62-96f6-f0208bf482b7"
      },
      "outputs": [
        {
          "name": "stdout",
          "output_type": "stream",
          "text": [
            "2477\n"
          ]
        }
      ],
      "source": [
        "# prec-process year 2019\n",
        "mydir = 'MyDCCC_all/2019_all/'\n",
        "yearCorpus = 'MyDCCC_all/clean_all_2019.txt'\n",
        "preprocessCorpusClimate(mydir, yearCorpus)"
      ]
    },
    {
      "cell_type": "code",
      "execution_count": null,
      "metadata": {
        "id": "3J9JxzFfIPhU",
        "outputId": "1d127501-a409-4de4-a2a9-fbc8ac0efe55"
      },
      "outputs": [
        {
          "name": "stdout",
          "output_type": "stream",
          "text": [
            "1845\n"
          ]
        }
      ],
      "source": [
        "# prec-process year 2020\n",
        "mydir = 'MyDCCC_all/2020_all/'\n",
        "yearCorpus = 'MyDCCC_all/clean_all_2020.txt'\n",
        "preprocessCorpusClimate(mydir, yearCorpus)"
      ]
    },
    {
      "cell_type": "code",
      "execution_count": null,
      "metadata": {
        "id": "-_0IfajLIPhU",
        "outputId": "064e465f-6382-466b-a919-09f4a02a62d1"
      },
      "outputs": [
        {
          "name": "stdout",
          "output_type": "stream",
          "text": [
            "1400\n"
          ]
        }
      ],
      "source": [
        "# prec-process year 2021\n",
        "mydir = 'MyDCCC_all/2021_all/'\n",
        "yearCorpus = 'MyDCCC_all/clean_all_2021.txt'\n",
        "preprocessCorpusClimate(mydir, yearCorpus)"
      ]
    },
    {
      "cell_type": "code",
      "execution_count": null,
      "metadata": {
        "id": "n5VpjBCLIPhV",
        "outputId": "d2f6a8e9-9cbe-4ee8-8012-b330e39d870d"
      },
      "outputs": [
        {
          "name": "stdout",
          "output_type": "stream",
          "text": [
            "7\n"
          ]
        }
      ],
      "source": [
        "#input: list of files\n",
        "#output: combined files into 1 file\n",
        "\n",
        "from os import listdir\n",
        "from os.path import isfile, join\n",
        "\n",
        "\n",
        "mydir = \"MyDCCC_all/DWEModelling/\"\n",
        "wholeCorpus = \"MyDCCC_all/DWEModelling/clean_climate_all.txt\"\n",
        "\n",
        "allcorpora = [f for f in listdir(mydir) if isfile(join(mydir, f))]\n",
        "print(len(allcorpora))\n",
        "\n",
        "for i in allcorpora:\n",
        "    if i.endswith('.txt'):\n",
        "        with open(mydir+i,'r') as readfile:\n",
        "            with open(wholeCorpus,'a') as writefile:\n",
        "                for line in readfile:\n",
        "                    writefile.write(line)"
      ]
    },
    {
      "cell_type": "code",
      "execution_count": null,
      "metadata": {
        "id": "5ga_-bgpIPhX"
      },
      "outputs": [],
      "source": [
        ""
      ]
    }
  ],
  "metadata": {
    "kernelspec": {
      "display_name": "Python 3",
      "language": "python",
      "name": "python3"
    },
    "language_info": {
      "codemirror_mode": {
        "name": "ipython",
        "version": 3
      },
      "file_extension": ".py",
      "mimetype": "text/x-python",
      "name": "python",
      "nbconvert_exporter": "python",
      "pygments_lexer": "ipython3",
      "version": "3.7.1"
    },
    "colab": {
      "name": "preprocess-mydccc.ipynb",
      "provenance": []
    }
  },
  "nbformat": 4,
  "nbformat_minor": 0
}